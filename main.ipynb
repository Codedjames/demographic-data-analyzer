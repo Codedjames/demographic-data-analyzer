{
 "cells": [
  {
   "cell_type": "code",
   "execution_count": 17,
   "id": "3ac1d6a8",
   "metadata": {},
   "outputs": [],
   "source": [
    "import demographic_data_analyzer\n",
    "from unittest import main"
   ]
  },
  {
   "cell_type": "code",
   "execution_count": 19,
   "id": "cbf6b451",
   "metadata": {},
   "outputs": [
    {
     "name": "stderr",
     "output_type": "stream",
     "text": [
      "E"
     ]
    },
    {
     "name": "stdout",
     "output_type": "stream",
     "text": [
      "Number of each race:\n",
      " White                 27816\n",
      "Black                  3124\n",
      "Asian-Pac-Islander     1039\n",
      "Amer-Indian-Eskimo      311\n",
      "Other                   271\n",
      "Name: race, dtype: int64\n",
      "Average age of men: 39\n",
      "Percentage with Bachelors degrees: 16%\n",
      "Percentage with higher education that earn >50K: 47%\n",
      "Percentage without higher education that earn >50K: 17%\n",
      "Min work time: 1 hours/week\n",
      "Percentage of rich among those who work fewest hours: 10%\n",
      "Country with highest percentage of rich: Iran\n",
      "Highest percentage of rich people in country: 42%\n",
      "Top occupations in India: Prof-specialty\n"
     ]
    },
    {
     "name": "stderr",
     "output_type": "stream",
     "text": [
      "\n",
      "======================================================================\n",
      "ERROR: C:\\Users\\USER\\AppData\\Roaming\\jupyter\\runtime\\kernel-e4e9b5f2-0e61-4a13-9b98-6c9e0bd74187 (unittest.loader._FailedTest)\n",
      "----------------------------------------------------------------------\n",
      "AttributeError: module 'test_module' has no attribute 'C:\\Users\\USER\\AppData\\Roaming\\jupyter\\runtime\\kernel-e4e9b5f2-0e61-4a13-9b98-6c9e0bd74187'\n",
      "\n",
      "----------------------------------------------------------------------\n",
      "Ran 1 test in 0.001s\n",
      "\n",
      "FAILED (errors=1)\n"
     ]
    },
    {
     "data": {
      "text/plain": [
       "<unittest.main.TestProgram at 0x4791568>"
      ]
     },
     "execution_count": 19,
     "metadata": {},
     "output_type": "execute_result"
    }
   ],
   "source": [
    "# This entrypoint file to be used in development. Start by reading README.md\n",
    "\n",
    "# Test your function by calling it here\n",
    "demographic_data_analyzer.calculate_demographic_data()\n",
    "\n",
    "# Run unit tests automatically\n",
    "main(module='test_module', exit=False)"
   ]
  },
  {
   "cell_type": "code",
   "execution_count": null,
   "id": "d50f0d71",
   "metadata": {},
   "outputs": [],
   "source": []
  },
  {
   "cell_type": "code",
   "execution_count": null,
   "id": "5625951a",
   "metadata": {},
   "outputs": [],
   "source": []
  }
 ],
 "metadata": {
  "kernelspec": {
   "display_name": "Python 3 (ipykernel)",
   "language": "python",
   "name": "python3"
  },
  "language_info": {
   "codemirror_mode": {
    "name": "ipython",
    "version": 3
   },
   "file_extension": ".py",
   "mimetype": "text/x-python",
   "name": "python",
   "nbconvert_exporter": "python",
   "pygments_lexer": "ipython3",
   "version": "3.9.7"
  }
 },
 "nbformat": 4,
 "nbformat_minor": 5
}
